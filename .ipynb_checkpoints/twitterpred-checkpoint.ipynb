{
 "cells": [
  {
   "cell_type": "code",
   "execution_count": 1,
   "id": "eb55b009-7c00-427c-9f4f-58e61010b434",
   "metadata": {},
   "outputs": [
    {
     "name": "stderr",
     "output_type": "stream",
     "text": [
      "C:\\Users\\Abcd\\AppData\\Local\\Temp\\ipykernel_15900\\4075262113.py:3: DeprecationWarning: \n",
      "Pyarrow will become a required dependency of pandas in the next major release of pandas (pandas 3.0),\n",
      "(to allow more performant data types, such as the Arrow string type, and better interoperability with other libraries)\n",
      "but was not found to be installed on your system.\n",
      "If this would cause problems for you,\n",
      "please provide us feedback at https://github.com/pandas-dev/pandas/issues/54466\n",
      "        \n",
      "  import pandas\n",
      "C:\\Users\\Abcd\\AppData\\Local\\Programs\\Python\\Python312\\Lib\\site-packages\\sklearn\\feature_extraction\\text.py:1381: UserWarning: Upper case characters found in vocabulary while 'lowercase' is True. These entries will not be matched with any documents\n",
      "  warnings.warn(\n"
     ]
    },
    {
     "name": "stdout",
     "output_type": "stream",
     "text": [
      "(265610, 302)\n",
      "(66403, 302)\n"
     ]
    },
    {
     "name": "stderr",
     "output_type": "stream",
     "text": [
      "C:\\Users\\Abcd\\AppData\\Local\\Programs\\Python\\Python312\\Lib\\site-packages\\sklearn\\feature_extraction\\text.py:1381: UserWarning: Upper case characters found in vocabulary while 'lowercase' is True. These entries will not be matched with any documents\n",
      "  warnings.warn(\n"
     ]
    },
    {
     "name": "stdout",
     "output_type": "stream",
     "text": [
      "(342280, 302)\n",
      "(85570, 302)\n"
     ]
    },
    {
     "name": "stderr",
     "output_type": "stream",
     "text": [
      "C:\\Users\\Abcd\\AppData\\Local\\Programs\\Python\\Python312\\Lib\\site-packages\\sklearn\\feature_extraction\\text.py:1381: UserWarning: Upper case characters found in vocabulary while 'lowercase' is True. These entries will not be matched with any documents\n",
      "  warnings.warn(\n"
     ]
    },
    {
     "name": "stdout",
     "output_type": "stream",
     "text": [
      "(256000, 302)\n",
      "(64000, 302)\n"
     ]
    },
    {
     "name": "stderr",
     "output_type": "stream",
     "text": [
      "C:\\Users\\Abcd\\AppData\\Local\\Programs\\Python\\Python312\\Lib\\site-packages\\sklearn\\feature_extraction\\text.py:1381: UserWarning: Upper case characters found in vocabulary while 'lowercase' is True. These entries will not be matched with any documents\n",
      "  warnings.warn(\n"
     ]
    },
    {
     "name": "stdout",
     "output_type": "stream",
     "text": [
      "(188541, 302)\n",
      "(47135, 302)\n"
     ]
    }
   ],
   "source": [
    "import csv\n",
    "import array\n",
    "import pandas\n",
    "import pickle\n",
    "import os\n",
    "import sys\n",
    "import numpy as np\n",
    "from sklearn.feature_extraction.text import CountVectorizer\n",
    "from sklearn.feature_extraction.text import TfidfVectorizer\n",
    "from sklearn.naive_bayes import GaussianNB\n",
    "from sklearn import svm\n",
    "csvFile=open('newfrequency300.csv', 'rt')\n",
    "csvReader=csv.reader(csvFile)\n",
    "mydict={row[1]: int(row[0]) for row in csvReader}\n",
    "\n",
    "y=[]\n",
    "with open ('PJFinaltest.csv', 'rt') as f:\n",
    "\treader=csv.reader(f)\n",
    "\tcorpus=[rows[0] for rows in reader]\n",
    "\n",
    "with open ('PJFinaltest.csv', 'rt') as f:\n",
    "\tcsvReader1=csv.reader(f)\n",
    "\tfor rows in csvReader1:\n",
    "\t\ty.append([int(rows[1])])\n",
    "vectorizer=TfidfVectorizer(vocabulary=mydict,min_df=1)\n",
    "x=vectorizer.fit_transform(corpus).toarray()\n",
    "result=np.append(x,y,axis=1)\n",
    "X=pandas.DataFrame(result)\n",
    "model=GaussianNB()\n",
    "train = X.sample(frac=0.8, random_state=1)\n",
    "test=X.drop(train.index)\n",
    "y_train=train[301]\n",
    "y_test=test[301]\n",
    "print(train.shape)\n",
    "print(test.shape)\n",
    "xtrain=train.drop(301,axis=1)\n",
    "xtest=test.drop(301,axis=1)\n",
    "model.fit(xtrain,y_train)\n",
    "pickle.dump(model, open('BNPJFinal.sav', 'wb'))\n",
    "del result\n",
    "\n",
    "y=[]\n",
    "with open ('IEFinaltest.csv', 'rt') as f:\n",
    "\treader=csv.reader(f)\n",
    "\tcorpus=[rows[0] for rows in reader]\n",
    "\n",
    "with open ('IEFinaltest.csv', 'rt') as f:\n",
    "\tcsvReader1=csv.reader(f)\n",
    "\tfor rows in csvReader1:\n",
    "\t\ty.append([int(rows[1])])\n",
    "vectorizer=TfidfVectorizer(vocabulary=mydict,min_df=1)\n",
    "x=vectorizer.fit_transform(corpus).toarray()\n",
    "result=np.append(x,y,axis=1)\n",
    "X=pandas.DataFrame(result)\n",
    "model=GaussianNB()\n",
    "train = X.sample(frac=0.8, random_state=1)\n",
    "test=X.drop(train.index)\n",
    "y_train=train[301]\n",
    "y_test=test[301]\n",
    "print(train.shape)\n",
    "print(test.shape)\n",
    "xtrain=train.drop(301,axis=1)\n",
    "xtest=test.drop(301,axis=1)\n",
    "model.fit(xtrain,y_train)\n",
    "pickle.dump(model, open('BNIEFinal.sav', 'wb'))\n",
    "del result\n",
    "\n",
    "y=[]\n",
    "with open ('TFFinaltest.csv', 'rt') as f:\n",
    "\treader=csv.reader(f)\n",
    "\tcorpus=[rows[0] for rows in reader]\n",
    "\n",
    "with open ('TFFinaltest.csv', 'rt') as f:\n",
    "\tcsvReader1=csv.reader(f)\n",
    "\tfor rows in csvReader1:\n",
    "\t\ty.append([int(rows[1])])\n",
    "vectorizer=TfidfVectorizer(vocabulary=mydict,min_df=1)\n",
    "x=vectorizer.fit_transform(corpus).toarray()\n",
    "result=np.append(x,y,axis=1)\n",
    "X=pandas.DataFrame(result)\n",
    "model=GaussianNB()\n",
    "train = X.sample(frac=0.8, random_state=1)\n",
    "test=X.drop(train.index)\n",
    "y_train=train[301]\n",
    "y_test=test[301]\n",
    "print(train.shape)\n",
    "print(test.shape)\n",
    "xtrain=train.drop(301,axis=1)\n",
    "xtest=test.drop(301,axis=1)\n",
    "model.fit(xtrain,y_train)\n",
    "pickle.dump(model, open('BNTFFinal.sav', 'wb'))\n",
    "del result\n",
    "\n",
    "y=[]\n",
    "with open ('SNFinaltest.csv', 'rt') as f:\n",
    "\treader=csv.reader(f)\n",
    "\tcorpus=[rows[0] for rows in reader]\n",
    "\n",
    "with open ('SNFinaltest.csv', 'rt') as f:\n",
    "\tcsvReader1=csv.reader(f)\n",
    "\tfor rows in csvReader1:\n",
    "\t\ty.append([int(rows[1])])\n",
    "vectorizer=TfidfVectorizer(vocabulary=mydict,min_df=1)\n",
    "x=vectorizer.fit_transform(corpus).toarray()\n",
    "result=np.append(x,y,axis=1)\n",
    "X=pandas.DataFrame(result)\n",
    "model=GaussianNB()\n",
    "train = X.sample(frac=0.8, random_state=1)\n",
    "test=X.drop(train.index)\n",
    "y_train=train[301]\n",
    "y_test=test[301]\n",
    "print(train.shape)\n",
    "print(test.shape)\n",
    "xtrain=train.drop(301,axis=1)\n",
    "xtest=test.drop(301,axis=1)\n",
    "model.fit(xtrain,y_train)\n",
    "pickle.dump(model, open('BNSNFinal.sav', 'wb'))"
   ]
  },
  {
   "cell_type": "code",
   "execution_count": 3,
   "id": "41de6460-42eb-4d13-9631-4960165f1965",
   "metadata": {},
   "outputs": [],
   "source": [
    "import pandas as pd\n",
    "from ntscraper import Nitter"
   ]
  },
  {
   "cell_type": "code",
   "execution_count": 4,
   "id": "39857b3b-3639-4118-93bc-01334b57a6dd",
   "metadata": {},
   "outputs": [
    {
     "name": "stderr",
     "output_type": "stream",
     "text": [
      "Testing instances: 100%|███████████████████████████████████████████████████████████████| 32/32 [03:37<00:00,  6.79s/it]\n"
     ]
    }
   ],
   "source": [
    "scraper = Nitter()"
   ]
  },
  {
   "cell_type": "code",
   "execution_count": 6,
   "id": "80244e93-2cdd-4a4f-8b5c-c0571974f473",
   "metadata": {},
   "outputs": [],
   "source": [
    "from collections import Counter"
   ]
  },
  {
   "cell_type": "code",
   "execution_count": null,
   "id": "fe20752f-be29-421e-975e-3946dcd70565",
   "metadata": {},
   "outputs": [],
   "source": [
    "import sys\n",
    "import numpy as np\n",
    "import csv\n",
    "import pandas as pd\n",
    "import pickle\n",
    "from sklearn.feature_extraction.text import CountVectorizer\n",
    "from sklearn.feature_extraction.text import TfidfVectorizer\n",
    "\n",
    "tweetList =[]\n",
    "def getTweets(name):\n",
    " csvFile = open('user.csv', 'a', newline='')\n",
    " csvWriter = csv.writer(csvFile)\n",
    " tweets = scraper.get_tweets(name,mode=\"user\",number=30)\n",
    " for tweet in tweets['tweets']:\n",
    "    data = (tweet['text'])\n",
    "    tweetList.append(data)\n",
    "\n",
    "\n",
    "\n",
    "username=input(\"Please Enter Twitter Account handle: \")\n",
    "getTweets(username)\n",
    "with open('user.csv','rt') as f:\n",
    "\tcsvReader=csv.reader(f)\n",
    "\ttweetList\n",
    "with open('newfrequency300.csv','rt') as f:\n",
    "\tcsvReader=csv.reader(f)\n",
    "\tmydict={rows[1]: int(rows[0]) for rows in csvReader}\n",
    "\n",
    "if len(tweetList) > 0:\n",
    "    vectorizer = TfidfVectorizer(vocabulary=mydict, min_df=1)\n",
    "    x = vectorizer.fit_transform(tweetList).toarray()\n",
    "    df = pd.DataFrame(x)\n",
    "else:\n",
    "    print(\"No tweets found. Check your data loading process.\")\n",
    "    sys.exit()\n",
    "    \n",
    "\n",
    "\n",
    "\n",
    "model_IE = pickle.load(open(\"BNIEFinal.sav\", 'rb'))\n",
    "model_SN = pickle.load(open(\"BNSNFinal.sav\", 'rb'))\n",
    "model_TF = pickle.load(open('BNTFFinal.sav', 'rb'))\n",
    "model_PJ = pickle.load(open('BNPJFinal.sav', 'rb'))\n",
    "\n",
    "answer=[]\n",
    "IE=model_IE.predict(df)\n",
    "SN=model_SN.predict(df)\n",
    "TF=model_TF.predict(df)\n",
    "PJ=model_PJ.predict(df)\n",
    "\n",
    "\n",
    "b = Counter(IE)\n",
    "value=b.most_common(1)\n",
    "print(value)\n",
    "if value[0][0] == 1.0:\n",
    "\tanswer.append(\"I\")\n",
    "else:\n",
    "\tanswer.append(\"E\")\n",
    "\n",
    "b = Counter(SN)\n",
    "value=b.most_common(1)\n",
    "print(value)\n",
    "if value[0][0] == 1.0:\n",
    "\tanswer.append(\"S\")\n",
    "else:\n",
    "\tanswer.append(\"N\")\n",
    "\n",
    "b = Counter(TF)\n",
    "value=b.most_common(1)\n",
    "print(value)\n",
    "if value[0][0] == 1:\n",
    "\tanswer.append(\"T\")\n",
    "else:\n",
    "\tanswer.append(\"F\")\n",
    "\n",
    "b = Counter(PJ)\n",
    "value=b.most_common(1)\n",
    "print(value)\n",
    "if value[0][0] == 1:\n",
    "\tanswer.append(\"P\")\n",
    "else:\n",
    "\tanswer.append(\"J\")\n",
    "mbti=\"\".join(answer)\n",
    "\n",
    "print(mbti)"
   ]
  },
  {
   "cell_type": "code",
   "execution_count": null,
   "id": "0bb9de9d-e5a0-4907-aec9-ddc24b6e5821",
   "metadata": {},
   "outputs": [],
   "source": []
  }
 ],
 "metadata": {
  "kernelspec": {
   "display_name": "Python 3 (ipykernel)",
   "language": "python",
   "name": "python3"
  },
  "language_info": {
   "codemirror_mode": {
    "name": "ipython",
    "version": 3
   },
   "file_extension": ".py",
   "mimetype": "text/x-python",
   "name": "python",
   "nbconvert_exporter": "python",
   "pygments_lexer": "ipython3",
   "version": "3.12.1"
  }
 },
 "nbformat": 4,
 "nbformat_minor": 5
}
